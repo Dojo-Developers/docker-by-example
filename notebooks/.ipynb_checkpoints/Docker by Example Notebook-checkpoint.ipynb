{
 "cells": [
  {
   "cell_type": "markdown",
   "metadata": {},
   "source": [
    "# Create a Users Table in Postgres"
   ]
  },
  {
   "cell_type": "code",
   "execution_count": null,
   "metadata": {},
   "outputs": [],
   "source": [
    "import psycopg2\n",
    "\n",
    "conn = psycopg2.connect('postgres://postgres:postgres@db:5432')\n",
    "conn.autocommit = True\n",
    "cur = conn.cursor()\n",
    "\n",
    "cur.execute('CREATE TABLE IF NOT EXISTS users (email TEXT, name TEXT)')\n",
    "conn.commit()\n",
    "cur.execute(\"select column_name, data_type from INFORMATION_SCHEMA.COLUMNS where table_name = 'users'\")\n",
    "print(cur.fetchall())"
   ]
  },
  {
   "cell_type": "markdown",
   "metadata": {},
   "source": [
    "# Add some users to the table"
   ]
  },
  {
   "cell_type": "code",
   "execution_count": null,
   "metadata": {},
   "outputs": [],
   "source": [
    "def add_user(email, name):\n",
    "    cur = conn.cursor()\n",
    "    cur.execute('INSERT INTO users VALUES (%s, %s)', (email, name))\n",
    "    \n",
    "    cur.execute('SELECT * FROM users')\n",
    "    print(cur.fetchall())\n",
    "\n",
    "def delete_users():\n",
    "    cur = conn.cursor()\n",
    "    cur.execute('DELETE FROM users')\n",
    "    cur.execute('SELECT * FROM users')\n",
    "    print(cur.fetchall())"
   ]
  },
  {
   "cell_type": "code",
   "execution_count": null,
   "metadata": {},
   "outputs": [],
   "source": []
  },
  {
   "cell_type": "code",
   "execution_count": null,
   "metadata": {},
   "outputs": [],
   "source": []
  }
 ],
 "metadata": {
  "kernelspec": {
   "display_name": "Python 3",
   "language": "python",
   "name": "python3"
  },
  "language_info": {
   "codemirror_mode": {
    "name": "ipython",
    "version": 3
   },
   "file_extension": ".py",
   "mimetype": "text/x-python",
   "name": "python",
   "nbconvert_exporter": "python",
   "pygments_lexer": "ipython3",
   "version": "3.6.3"
  }
 },
 "nbformat": 4,
 "nbformat_minor": 2
}
